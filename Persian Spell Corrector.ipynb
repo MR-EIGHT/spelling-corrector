{
 "cells": [
  {
   "cell_type": "code",
   "execution_count": 197,
   "id": "54380f28",
   "metadata": {},
   "outputs": [],
   "source": [
    "import re\n",
    "from collections import Counter\n",
    "\n",
    "def words(text): return re.findall(r'\\w+', text.lower())\n",
    "\n",
    "WORDS = Counter(words(open('big.txt','r',encoding='utf-8').read()))"
   ]
  },
  {
   "cell_type": "code",
   "execution_count": 287,
   "id": "66254341",
   "metadata": {},
   "outputs": [],
   "source": [
    "current_context=Counter([])\n",
    "def find_context():\n",
    "    norvig_candidates = (known([word]) | known(edits1(word)) | known(edits2(word)) | {word})\n",
    "    context_candidates = context_sensitive_candidates(context)\n",
    "    current_context = Counter([w for w in context_candidates if w in norvig_candidates])\n",
    "    return [w for w in context_candidates if w in norvig_candidates]\n",
    "\n",
    "def P(word, N=sum(current_context.values())):\n",
    "    global current_context\n",
    "    \"Probability of `word`.\"\n",
    "    print(current_context.values())\n",
    "    return current_context[word] / N\n",
    "\n",
    "def correction(word,context): \n",
    "    \"Most probable spelling correction for word.\"\n",
    "    spell_context = Counter(candidates(word,context))\n",
    "    real_candidates = spell_context.most_common()\n",
    "#     N=sum(spell_context.values())\n",
    "#     for i in range(0,len(spell_context)):\n",
    "#         spell_context[word] = spell_context[word] / N\n",
    "#     print(spell_context)\n",
    "    return real_candidates[0]\n",
    "\n",
    "def candidates(word,context): \n",
    "    \"Generate possible spelling corrections for word.\"\n",
    "    norvig_candidates = (known([word]) | known(edits1(word)) | known(edits2(word)) | {word})\n",
    "    context_candidates = context_sensitive_candidates(context)\n",
    "    current_context = Counter([w for w in context_candidates if w in norvig_candidates])\n",
    "    return [w for w in context_candidates if w in norvig_candidates]\n",
    "\n",
    "def known(words): \n",
    "    \"The subset of `words` that appear in the dictionary of WORDS.\"\n",
    "    return set(w for w in words if w in WORDS)\n",
    "\n",
    "def edits1(word):\n",
    "    \"All edits that are one edit away from `word`.\"\n",
    "    letters    = 'آابپتثجچحخدذرزژسشضطظعغفقکگلمنوهی'\n",
    "    splits     = [(word[:i], word[i:])    for i in range(len(word) + 1)]\n",
    "    deletes    = [R + L[1:]               for R, L in splits if L]\n",
    "    transposes = [R + L[1] + L[0] + L[2:] for R, L in splits if len(L)>1]\n",
    "    replaces   = [R + c + L[1:]           for R, L in splits if L for c in letters]\n",
    "    inserts    = [R + c + L               for R, L in splits for c in letters]\n",
    "    return set(deletes + transposes + replaces + inserts)\n",
    "\n",
    "def edits2(word): \n",
    "    \"All edits that are two edits away from `word`.\"\n",
    "    return (e2 for e1 in edits1(word) for e2 in edits1(e1))"
   ]
  },
  {
   "cell_type": "code",
   "execution_count": 60,
   "id": "e9f9d7b1",
   "metadata": {},
   "outputs": [],
   "source": [
    "import pickle\n",
    "f = open(\"not_unique_final_cleaned_vocab.pkl\", 'rb')\n",
    "dicti = pickle.load(f)\n",
    "f.close()\n",
    "dicti = list(filter(None, dicti))\n"
   ]
  },
  {
   "cell_type": "code",
   "execution_count": 190,
   "id": "e2e06545",
   "metadata": {},
   "outputs": [],
   "source": [
    "def sen_corrector(query):\n",
    "    words = query.split()\n",
    "    for i in range(0,len(words)):\n",
    "#         words[i] = correction(words[i],' '.join(words[:i] + words[i+1:]))\n",
    "        words[i] = correction(words[i],query)\n",
    "    return words"
   ]
  },
  {
   "cell_type": "code",
   "execution_count": 215,
   "id": "a88ccf61",
   "metadata": {},
   "outputs": [],
   "source": [
    "def context_sensitive_candidates(words):\n",
    "    possibles = []\n",
    "    for w in words.split():\n",
    "        indices = [i for i, x in enumerate(dicti) if x == w]\n",
    "        for i in indices:\n",
    "            possibles.extend(dicti[i:i+2] + dicti[i-1:i])\n",
    "    return possibles"
   ]
  },
  {
   "cell_type": "code",
   "execution_count": 288,
   "id": "6bf0e2ec",
   "metadata": {},
   "outputs": [
    {
     "data": {
      "text/plain": [
       "[('خیابان', 7378), ('امام', 190)]"
      ]
     },
     "execution_count": 288,
     "metadata": {},
     "output_type": "execute_result"
    }
   ],
   "source": [
    "sen_corrector('خیابان اپام')"
   ]
  },
  {
   "cell_type": "code",
   "execution_count": 289,
   "id": "424bc5ad",
   "metadata": {},
   "outputs": [
    {
     "data": {
      "text/plain": [
       "[('کاهن', 141), ('معبد', 9)]"
      ]
     },
     "execution_count": 289,
     "metadata": {},
     "output_type": "execute_result"
    }
   ],
   "source": [
    "sen_corrector('کاهن مبعد')"
   ]
  }
 ],
 "metadata": {
  "kernelspec": {
   "display_name": "Python 3",
   "language": "python",
   "name": "python3"
  },
  "language_info": {
   "codemirror_mode": {
    "name": "ipython",
    "version": 3
   },
   "file_extension": ".py",
   "mimetype": "text/x-python",
   "name": "python",
   "nbconvert_exporter": "python",
   "pygments_lexer": "ipython3",
   "version": "3.7.7"
  }
 },
 "nbformat": 4,
 "nbformat_minor": 5
}
